{
 "cells": [
  {
   "cell_type": "markdown",
   "id": "13ad028b-72b7-43ed-aa78-96fd4e518040",
   "metadata": {
    "id": "13ad028b-72b7-43ed-aa78-96fd4e518040"
   },
   "source": [
    "# Assignment: Data Wrangling\n",
    "## `! git clone https://github.com/DS3001/wrangling`\n",
    "## Do Q2, and one of Q1 or Q3."
   ]
  },
  {
   "cell_type": "markdown",
   "id": "5735a4d4-8be8-433a-a351-70eb8002e632",
   "metadata": {
    "id": "5735a4d4-8be8-433a-a351-70eb8002e632"
   },
   "source": [
    "**Q1.** Open the \"tidy_data.pdf\" document in the repo, which is a paper called Tidy Data by Hadley Wickham.\n",
    "\n",
    "  1. Read the abstract. What is this paper about?\n",
    "  2. Read the introduction. What is the \"tidy data standard\" intended to accomplish?\n",
    "  3. Read the intro to section 2. What does this sentence mean: \"Like families, tidy datasets are all alike but every messy dataset is messy in its own way.\" What does this sentence mean: \"For a given dataset, it’s usually easy to figure out what are observations and what are variables, but it is surprisingly difficult to precisely define variables and observations in general.\"\n",
    "  4. Read Section 2.2. How does Wickham define values, variables, and observations?\n",
    "  5. How is \"Tidy Data\" defined in section 2.3?\n",
    "  6. Read the intro to Section 3 and Section 3.1. What are the 5 most common problems with messy datasets? Why are the data in Table 4 messy? What is \"melting\" a dataset?\n",
    "  7. Why, specifically, is table 11 messy but table 12 tidy and \"molten\"?\n",
    "  8. Read Section 6. What is the \"chicken-and-egg\" problem with focusing on tidy data? What does Wickham hope happens in the future with further work on the  subject of data wrangling?"
   ]
  },
  {
   "cell_type": "markdown",
   "id": "5d696291-0292-4961-b828-190367b22647",
   "metadata": {},
   "source": [
    "Q1.1: The focus of data analysis often is how to clean it, yet, Wickham observes there is little effort put into understanding how to make data cleaning as efficient as possible, given how much time is spent doing so. She seeks to construct a framework which makes it easy and consistent to clean datasets up so that as much time can be saved as possible.\n",
    "\n",
    "Q1.2: 80% of data analysis is spent on cleaning and preparing, so Wickham decides to put an end to the time waste. She introduces a concept of tidy data, a set of standards for structuring and dealing with datasets such that one can easily clean data without spending too much brain power or time. She lays out the rest of the sections and how they cover certain aspects of solving data cleaning.\n",
    "\n",
    "Q1.3: The general ways in which data can be unclean is typically the same; mising values, repeated instances, incorrect formatting. There is typically never a novel way in which the data is messy, yet, every data set due to the lack of structure or standard, remains to be a challenge to clean because every data set has issues in their own unique ways. The second sentence makes reference to how given any particular dataset, we can understand quite easily what our observations are and what are variables are given context. Outside that context, there is really no limit to what can be a variable or observation, and due to this, cleaning data effectively and safely without harming the end result, requires structure.\n",
    "\n",
    "Q1.4: Values are any sort of numeric or categorical, and they belong to a variable or observation. Variables is some set of data points which represent the property, given some value. An observation is a set of values captured across a set of attributes.\n",
    "\n",
    "Q1.5: Each variable forms a column, each observation forms a row, and each type of observational unit forms a table.\n",
    "\n",
    "Q1.6: Having column headers by values, instead of variable names. Having multiple variables stored in one column. Having variables stored in both rows and columns. Having multiple types of observational units stored in the same table. Having a single observational unit stored in multiple tables. Table 4 shows income as columns, but it should be a column itself. Remake the table with 'religion', 'income', and 'frequency' as columns. This change turns column names from values into proper variables. This process is called 'melting'.\n",
    "\n",
    "Q1.7: Table 11 shows days as columns, which isn't ideal. Table 12 fixes this by making a 'date' column. Table 12(b) separates these into their own columns, making everything a true data point.\n",
    "\n",
    "Q1.8: The issue currently is that Wickham's implementation of tidy data is inherently coupled to the tools it is related to, and it is a standard that must be conformed to, otherwise it is not possible to achieve her form. Instead, the long term goal is to bring attention to finding new methodologies for preparing and cleaning data efficiently such that one is not reliant off the particular tools she is utilizing and promoting.\n"
   ]
  },
  {
   "cell_type": "markdown",
   "id": "da879ea7-8aac-48a3-b6c2-daea56d2e072",
   "metadata": {
    "id": "da879ea7-8aac-48a3-b6c2-daea56d2e072"
   },
   "source": [
    "**Q2.** This question provides some practice cleaning variables which have common problems.\n",
    "1. Numeric variable: For `./data/airbnb_hw.csv`, clean the `Price` variable as well as you can, and explain the choices you make. How many missing values do you end up with? (Hint: What happens to the formatting when a price goes over 999 dollars, say from 675 to 1,112?)\n",
    "2. Categorical variable: For the `./data/sharks.csv` data covered in the lecture, clean the \"Type\" variable as well as you can, and explain the choices you make.\n",
    "3. Dummy variable: For the pretrial data covered in the lecture, clean the `WhetherDefendantWasReleasedPretrial` variable as well as you can, and, in particular, replace missing values with `np.nan`.\n",
    "4. Missing values, not at random: For the pretrial data covered in the lecture, clean the `ImposedSentenceAllChargeInContactEvent` variable as well as you can, and explain the choices you make. (Hint: Look at the `SentenceTypeAllChargesAtConvictionInContactEvent` variable.)"
   ]
  },
  {
   "cell_type": "code",
   "execution_count": 14,
   "id": "c35d0dd4-e299-4eb5-a05a-56b0a8b76cf4",
   "metadata": {},
   "outputs": [
    {
     "data": {
      "text/html": [
       "<style>.jp-OutputArea-output {display:flex}</style>"
      ],
      "text/plain": [
       "<IPython.core.display.HTML object>"
      ]
     },
     "metadata": {},
     "output_type": "display_data"
    },
    {
     "name": "stdout",
     "output_type": "stream",
     "text": [
      "<class 'pandas.core.frame.DataFrame'>\n",
      "RangeIndex: 30478 entries, 0 to 30477\n",
      "Data columns (total 13 columns):\n",
      " #   Column                      Non-Null Count  Dtype  \n",
      "---  ------                      --------------  -----  \n",
      " 0   Host Id                     30478 non-null  int64  \n",
      " 1   Host Since                  30475 non-null  object \n",
      " 2   Name                        30478 non-null  object \n",
      " 3   Neighbourhood               30478 non-null  object \n",
      " 4   Property Type               30475 non-null  object \n",
      " 5   Review Scores Rating (bin)  22155 non-null  float64\n",
      " 6   Room Type                   30478 non-null  object \n",
      " 7   Zipcode                     30344 non-null  float64\n",
      " 8   Beds                        30393 non-null  float64\n",
      " 9   Number of Records           30478 non-null  int64  \n",
      " 10  Number Of Reviews           30478 non-null  int64  \n",
      " 11  Price                       30478 non-null  object \n",
      " 12  Review Scores Rating        22155 non-null  float64\n",
      "dtypes: float64(4), int64(3), object(6)\n",
      "memory usage: 3.0+ MB\n"
     ]
    }
   ],
   "source": [
    "import pandas as pd\n",
    "\n",
    "pd.set_option('display.max_rows', 500)\n",
    "pd.set_option('display.max_columns', 500)\n",
    "pd.set_option('display.width', 1000)\n",
    "\n",
    "from IPython.display import display, HTML\n",
    "display(HTML(\"<style>.jp-OutputArea-output {display:flex}</style>\"))\n",
    "\n",
    "data = pd.read_csv(\"data/airbnb_hw.csv\")\n",
    "data.info()"
   ]
  },
  {
   "cell_type": "code",
   "execution_count": 19,
   "id": "afb0dd7c-7873-4d16-9c7e-40e72eb5edee",
   "metadata": {
    "scrolled": true
   },
   "outputs": [
    {
     "data": {
      "text/plain": [
       "Price\n",
       "150    1481\n",
       "100    1207\n",
       "200    1059\n",
       "125     889\n",
       "75      873\n",
       "80      798\n",
       "250     747\n",
       "120     743\n",
       "90      729\n",
       "70      711\n",
       "175     705\n",
       "65      696\n",
       "60      683\n",
       "50      643\n",
       "85      623\n",
       "95      558\n",
       "99      558\n",
       "110     541\n",
       "130     457\n",
       "140     457\n",
       "160     449\n",
       "55      437\n",
       "180     399\n",
       "300     397\n",
       "225     384\n",
       "Name: count, dtype: int64"
      ]
     },
     "execution_count": 19,
     "metadata": {},
     "output_type": "execute_result"
    }
   ],
   "source": [
    "data.value_counts('Price').head(25)"
   ]
  },
  {
   "cell_type": "code",
   "execution_count": 22,
   "id": "1b1abe5c-073c-4c6f-b245-32f5aa437c7b",
   "metadata": {},
   "outputs": [],
   "source": [
    "data['Price'] = pd.to_numeric(data['Price'], errors='coerce')"
   ]
  },
  {
   "cell_type": "code",
   "execution_count": 23,
   "id": "d5a7f30f-ebf2-4eee-8352-b52820d2e974",
   "metadata": {},
   "outputs": [
    {
     "data": {
      "text/plain": [
       "Price\n",
       "150.0    1481\n",
       "100.0    1207\n",
       "200.0    1059\n",
       "125.0     889\n",
       "75.0      873\n",
       "80.0      798\n",
       "250.0     747\n",
       "120.0     743\n",
       "90.0      729\n",
       "70.0      711\n",
       "175.0     705\n",
       "65.0      696\n",
       "60.0      683\n",
       "50.0      643\n",
       "85.0      623\n",
       "95.0      558\n",
       "99.0      558\n",
       "110.0     541\n",
       "130.0     457\n",
       "140.0     457\n",
       "160.0     449\n",
       "55.0      437\n",
       "180.0     399\n",
       "300.0     397\n",
       "225.0     384\n",
       "Name: count, dtype: int64"
      ]
     },
     "execution_count": 23,
     "metadata": {},
     "output_type": "execute_result"
    }
   ],
   "source": [
    "data.value_counts('Price').head(25)"
   ]
  },
  {
   "cell_type": "code",
   "execution_count": 24,
   "id": "fc12d2c0-6749-49a5-bf33-387450ddbd37",
   "metadata": {},
   "outputs": [
    {
     "name": "stdout",
     "output_type": "stream",
     "text": [
      "<class 'pandas.core.frame.DataFrame'>\n",
      "RangeIndex: 30478 entries, 0 to 30477\n",
      "Data columns (total 13 columns):\n",
      " #   Column                      Non-Null Count  Dtype  \n",
      "---  ------                      --------------  -----  \n",
      " 0   Host Id                     30478 non-null  int64  \n",
      " 1   Host Since                  30475 non-null  object \n",
      " 2   Name                        30478 non-null  object \n",
      " 3   Neighbourhood               30478 non-null  object \n",
      " 4   Property Type               30475 non-null  object \n",
      " 5   Review Scores Rating (bin)  22155 non-null  float64\n",
      " 6   Room Type                   30478 non-null  object \n",
      " 7   Zipcode                     30344 non-null  float64\n",
      " 8   Beds                        30393 non-null  float64\n",
      " 9   Number of Records           30478 non-null  int64  \n",
      " 10  Number Of Reviews           30478 non-null  int64  \n",
      " 11  Price                       30297 non-null  float64\n",
      " 12  Review Scores Rating        22155 non-null  float64\n",
      "dtypes: float64(5), int64(3), object(5)\n",
      "memory usage: 3.0+ MB\n"
     ]
    }
   ],
   "source": [
    "data.info()"
   ]
  },
  {
   "cell_type": "markdown",
   "id": "35207cfc-d379-47d8-827c-a38e6992c855",
   "metadata": {},
   "source": [
    "Q1. We coerce our Price into Numeric (float64), and this leaves us with 181 missing values."
   ]
  },
  {
   "cell_type": "code",
   "execution_count": 6,
   "id": "a6aefcf7-dc75-4acd-ad15-e5a3e2e0b626",
   "metadata": {},
   "outputs": [
    {
     "name": "stderr",
     "output_type": "stream",
     "text": [
      "C:\\Users\\fletc\\AppData\\Local\\Temp\\ipykernel_19060\\1343549384.py:4: DtypeWarning: Columns (10,17,18,19,20,21,24) have mixed types. Specify dtype option on import or set low_memory=False.\n",
      "  sd = pd.read_csv(\"data/sharks.csv\")\n"
     ]
    },
    {
     "data": {
      "text/plain": [
       "Type\n",
       "Unprovoked             4716\n",
       "Provoked                593\n",
       "Invalid                 552\n",
       "Sea Disaster            239\n",
       "Watercraft              142\n",
       "Boat                    109\n",
       "Boating                  92\n",
       "Questionable             10\n",
       "Boatomg                   1\n",
       "Unconfirmed               1\n",
       "Under investigation       1\n",
       "Unverified                1\n",
       "Name: count, dtype: int64"
      ]
     },
     "execution_count": 6,
     "metadata": {},
     "output_type": "execute_result"
    }
   ],
   "source": [
    "import pandas as pd\n",
    "import numpy as np\n",
    "\n",
    "sd = pd.read_csv(\"data/sharks.csv\")\n",
    "sd.value_counts('Type')"
   ]
  },
  {
   "cell_type": "code",
   "execution_count": 11,
   "id": "68627700-fe17-4bd5-b67b-e81a6a360aec",
   "metadata": {},
   "outputs": [
    {
     "data": {
      "text/plain": [
       "Type\n",
       "Unprovoked    4716\n",
       "Provoked       593\n",
       "Misc           583\n",
       "Name: count, dtype: int64"
      ]
     },
     "execution_count": 11,
     "metadata": {},
     "output_type": "execute_result"
    }
   ],
   "source": [
    "tp = sd['Type'] \n",
    "\n",
    "tp = tp.replace(['Boatomg', 'Watercraft', 'Sea Disaster', 'Boat', 'Boating'], 'Boat Activity')\n",
    "tp = tp.replace(['Invalid', 'Questionable', 'Unconfirmed', 'Unverified', 'Under investigation'], np.nan) \n",
    "sd['Type'] = tp\n",
    "\n",
    "sd['Type'].value_counts()"
   ]
  },
  {
   "cell_type": "markdown",
   "id": "f9c807c3-f39f-41f0-aedc-33f24836de20",
   "metadata": {},
   "source": [
    "Q2. The existing dataset is extremely messy and has a number of descriptors that do not need to exist, and can instead be combined for more clarity. We first take everything that is not given a specification of any sort related to unprovoked or provoked, but has a topic, and simply refer to it as a boat activity. Anything which "
   ]
  },
  {
   "cell_type": "markdown",
   "id": "649494cd-cfd6-4f80-992a-9994fc19e1d5",
   "metadata": {
    "id": "649494cd-cfd6-4f80-992a-9994fc19e1d5"
   },
   "source": [
    "**Q3.** Many important datasets contain a race variable, typically limited to a handful of values often including Black, White, Asian, Latino, and Indigenous. This question looks at data gathering efforts on this variable by the U.S. Federal government.\n",
    "\n",
    "1. How did the most recent US Census gather data on race?\n",
    "2. Why do we gather these data? What role do these kinds of data play in politics and society? Why does data quality matter?\n",
    "3. Please provide a constructive criticism of how the Census was conducted: What was done well? What do you think was missing? How should future large scale surveys be adjusted to best reflect the diversity of the population? Could some of the Census' good practices be adopted more widely to gather richer and more useful data?\n",
    "4. How did the Census gather data on sex and gender? Please provide a similar constructive criticism of their practices.\n",
    "5. When it comes to cleaning data, what concerns do you have about protected characteristics like sex, gender, sexual identity, or race? What challenges can you imagine arising when there are missing values? What good or bad practices might people adopt, and why?\n",
    "6. Suppose someone invented an algorithm to impute values for protected characteristics like race, gender, sex, or sexuality. What kinds of concerns would you have?"
   ]
  },
  {
   "cell_type": "code",
   "execution_count": null,
   "id": "d449b313-fccd-4a23-837a-ad8cd211eedf",
   "metadata": {},
   "outputs": [],
   "source": []
  }
 ],
 "metadata": {
  "colab": {
   "provenance": []
  },
  "kernelspec": {
   "display_name": "Python 3 (ipykernel)",
   "language": "python",
   "name": "python3"
  },
  "language_info": {
   "codemirror_mode": {
    "name": "ipython",
    "version": 3
   },
   "file_extension": ".py",
   "mimetype": "text/x-python",
   "name": "python",
   "nbconvert_exporter": "python",
   "pygments_lexer": "ipython3",
   "version": "3.12.1"
  }
 },
 "nbformat": 4,
 "nbformat_minor": 5
}
